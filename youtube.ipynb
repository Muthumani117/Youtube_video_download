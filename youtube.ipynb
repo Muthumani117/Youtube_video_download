{
 "cells": [
  {
   "cell_type": "code",
   "execution_count": 1,
   "id": "6098205a",
   "metadata": {},
   "outputs": [
    {
     "name": "stdout",
     "output_type": "stream",
     "text": [
      "Collecting pytube\n",
      "  Downloading pytube-12.0.0-py3-none-any.whl (56 kB)\n",
      "\u001b[2K     \u001b[90m━━━━━━━━━━━━━━━━━━━━━━━━━━━━━━━━━━━━━━━━\u001b[0m \u001b[32m56.5/56.5 KB\u001b[0m \u001b[31m1.4 MB/s\u001b[0m eta \u001b[36m0:00:00\u001b[0m\n",
      "\u001b[?25hInstalling collected packages: pytube\n",
      "Successfully installed pytube-12.0.0\n",
      "Note: you may need to restart the kernel to use updated packages.\n"
     ]
    }
   ],
   "source": [
    "pip install pytube"
   ]
  },
  {
   "cell_type": "code",
   "execution_count": 1,
   "id": "139d3ead",
   "metadata": {},
   "outputs": [],
   "source": [
    "from pytube import YouTube\n",
    "import time\n",
    "from pytube.exceptions import RegexMatchError"
   ]
  },
  {
   "cell_type": "code",
   "execution_count": 3,
   "id": "8efd4726",
   "metadata": {},
   "outputs": [
    {
     "name": "stdout",
     "output_type": "stream",
     "text": [
      "Enter the URL: https://youtu.be/uVwtVBpw7RQ\n",
      "Title of the video:  What is Node js?\n",
      "********************************************************************\n",
      "What is Node js? This short video explains it in 3 minutes.\n",
      "🔥Node js tutorial for beginners: https://youtu.be/TlB_eWDSMt4\n",
      "\n",
      "Subscribe for more videos: \n",
      "https://www.youtube.com/channel/UCWv7vMbMWH4-V0ZXdmDpPBA?sub_confirmation=1\n",
      "\n",
      "Want to learn more from me? Check out my blog and courses: \n",
      "\n",
      "Courses: https://codewithmosh.com\n",
      "Blog: https://programmingwithmosh.com \n",
      "Facebook: https://www.facebook.com/programmingwithmosh/\n",
      "Twitter: https://twitter.com/moshhamedani\n",
      "********************************************************************\n",
      "Author of the video:  Programming with Mosh\n",
      "Subtitles provided:  {'a.en': <Caption lang=\"English (auto-generated)\" code=\"a.en\">}\n",
      "URL of the channel:  https://www.youtube.com/channel/UCWv7vMbMWH4-V0ZXdmDpPBA\n",
      "Total length of video:  00:03:42\n",
      "Total views:  524397\n",
      "Thumbnail_url:  https://i.ytimg.com/vi/uVwtVBpw7RQ/sddefault.jpg\n",
      "Published Date:  2018-01-23 00:00:00\n",
      "Listing all the stream details available \n",
      "Video itag: 18, Resolution : 360p\n",
      "Video itag: 22, Resolution : 720p\n",
      "Enter any one resolution from above listed: 360p\n",
      "Video Successfully Downloaded\n"
     ]
    }
   ],
   "source": [
    "def video_details(link):\n",
    "    print(\"Title of the video: \", link.title)\n",
    "    print(\"********************************************************************\")\n",
    "    print(link.description)\n",
    "    print(\"********************************************************************\")\n",
    "    print(\"Author of the video: \", link.author)\n",
    "    print(\"Subtitles provided: \", link.captions)\n",
    "    print(\"URL of the channel: \", link.channel_url)\n",
    "    print(\"Total length of video: \", time.strftime(\"%H:%M:%S\", time.gmtime(link.length)))\n",
    "    print(\"Total views: \", link.views)\n",
    "    print(\"Thumbnail_url: \", link.thumbnail_url)\n",
    "    print(\"Published Date: \",link.publish_date)\n",
    "    \n",
    "def download_video(link):\n",
    "    all_streams =link.streams.filter(file_extension = \"mp4\", progressive=True)\n",
    "    print(\"Listing all the stream details available \")\n",
    "    for stream in all_streams:\n",
    "        print(f\"Video itag: {stream.itag}, Resolution : {stream.resolution}\")\n",
    "    \n",
    "    input_res = input(\"Enter any one resolution from above listed: \")\n",
    "    video = link.streams.get_by_resolution(input_res)  # or use get_by_itag(input_itag)\n",
    "    video.download()\n",
    "        \n",
    "\n",
    "url = input(\"Enter the URL: \")\n",
    "try:\n",
    "    link = YouTube(url)\n",
    "    video_details(link)\n",
    "    download_video(link)\n",
    "    print(\"Video Successfully Downloaded\")\n",
    "except RegexMatchError:\n",
    "    print(\"Couldn't find the URL, Please enter the correct URL\")\n"
   ]
  },
  {
   "cell_type": "code",
   "execution_count": null,
   "id": "6ba778dc",
   "metadata": {},
   "outputs": [],
   "source": []
  }
 ],
 "metadata": {
  "kernelspec": {
   "display_name": "Python 3 (ipykernel)",
   "language": "python",
   "name": "python3"
  },
  "language_info": {
   "codemirror_mode": {
    "name": "ipython",
    "version": 3
   },
   "file_extension": ".py",
   "mimetype": "text/x-python",
   "name": "python",
   "nbconvert_exporter": "python",
   "pygments_lexer": "ipython3",
   "version": "3.9.7"
  }
 },
 "nbformat": 4,
 "nbformat_minor": 5
}
